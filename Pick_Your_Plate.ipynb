{
  "metadata": {
    "kernelspec": {
      "display_name": "Python 3",
      "language": "python",
      "name": "python3"
    },
    "language_info": {
      "codemirror_mode": {
        "name": "ipython",
        "version": 3
      },
      "file_extension": ".py",
      "mimetype": "text/x-python",
      "name": "python",
      "nbconvert_exporter": "python",
      "pygments_lexer": "ipython3",
      "version": "3.11.5"
    },
    "colab": {
      "provenance": []
    }
  },
  "nbformat_minor": 0,
  "nbformat": 4,
  "cells": [
    {
      "cell_type": "markdown",
      "source": [
        "# Importing Python Libraries"
      ],
      "metadata": {
        "id": "Xz33bx0uj0Vb"
      }
    },
    {
      "cell_type": "code",
      "source": [
        "import pandas as pd\n",
        "import numpy as np\n",
        "\n",
        "from sklearn.preprocessing import MinMaxScaler"
      ],
      "metadata": {
        "execution": {
          "iopub.status.busy": "2023-10-25T00:58:31.648651Z",
          "iopub.execute_input": "2023-10-25T00:58:31.649181Z",
          "iopub.status.idle": "2023-10-25T00:58:32.560403Z",
          "shell.execute_reply.started": "2023-10-25T00:58:31.649132Z",
          "shell.execute_reply": "2023-10-25T00:58:32.559170Z"
        },
        "trusted": true,
        "id": "0xgNDflssUXw"
      },
      "execution_count": 1,
      "outputs": []
    },
    {
      "cell_type": "markdown",
      "source": [
        "# Dataset Overview"
      ],
      "metadata": {
        "id": "XpgxgvDDj5F0"
      }
    },
    {
      "cell_type": "code",
      "source": [
        "df = pd.read_csv(\"Restaurant_reviews.csv\")\n",
        "df.head()"
      ],
      "metadata": {
        "execution": {
          "iopub.status.busy": "2023-10-25T00:58:32.562699Z",
          "iopub.execute_input": "2023-10-25T00:58:32.563206Z",
          "iopub.status.idle": "2023-10-25T00:58:32.720243Z",
          "shell.execute_reply.started": "2023-10-25T00:58:32.563176Z",
          "shell.execute_reply": "2023-10-25T00:58:32.719201Z"
        },
        "trusted": true,
        "colab": {
          "base_uri": "https://localhost:8080/",
          "height": 206
        },
        "id": "th8Z856AsUX0",
        "outputId": "3d0c3e05-4316-4c2c-c020-fc67d7ba91c5"
      },
      "execution_count": 2,
      "outputs": [
        {
          "output_type": "execute_result",
          "data": {
            "text/plain": [
              "        Restaurant              Reviewer  \\\n",
              "0  Beyond Flavours     Rusha Chakraborty   \n",
              "1  Beyond Flavours  Anusha Tirumalaneedi   \n",
              "2  Beyond Flavours       Ashok Shekhawat   \n",
              "3  Beyond Flavours        Swapnil Sarkar   \n",
              "4  Beyond Flavours                Dileep   \n",
              "\n",
              "                                              Review Rating  \\\n",
              "0  The ambience was good, food was quite good . h...      5   \n",
              "1  Ambience is too good for a pleasant evening. S...      5   \n",
              "2  A must try.. great food great ambience. Thnx f...      5   \n",
              "3  Soumen das and Arun was a great guy. Only beca...      5   \n",
              "4  Food is good.we ordered Kodi drumsticks and ba...      5   \n",
              "\n",
              "                  Metadata             Time  Pictures    7514  \n",
              "0   1 Review , 2 Followers  5/25/2019 15:54         0  2447.0  \n",
              "1  3 Reviews , 2 Followers  5/25/2019 14:20         0     NaN  \n",
              "2  2 Reviews , 3 Followers  5/24/2019 22:54         0     NaN  \n",
              "3    1 Review , 1 Follower  5/24/2019 22:11         0     NaN  \n",
              "4  3 Reviews , 2 Followers  5/24/2019 21:37         0     NaN  "
            ],
            "text/html": [
              "\n",
              "  <div id=\"df-c61cecc5-335f-4b75-9e4d-e1a14d491147\" class=\"colab-df-container\">\n",
              "    <div>\n",
              "<style scoped>\n",
              "    .dataframe tbody tr th:only-of-type {\n",
              "        vertical-align: middle;\n",
              "    }\n",
              "\n",
              "    .dataframe tbody tr th {\n",
              "        vertical-align: top;\n",
              "    }\n",
              "\n",
              "    .dataframe thead th {\n",
              "        text-align: right;\n",
              "    }\n",
              "</style>\n",
              "<table border=\"1\" class=\"dataframe\">\n",
              "  <thead>\n",
              "    <tr style=\"text-align: right;\">\n",
              "      <th></th>\n",
              "      <th>Restaurant</th>\n",
              "      <th>Reviewer</th>\n",
              "      <th>Review</th>\n",
              "      <th>Rating</th>\n",
              "      <th>Metadata</th>\n",
              "      <th>Time</th>\n",
              "      <th>Pictures</th>\n",
              "      <th>7514</th>\n",
              "    </tr>\n",
              "  </thead>\n",
              "  <tbody>\n",
              "    <tr>\n",
              "      <th>0</th>\n",
              "      <td>Beyond Flavours</td>\n",
              "      <td>Rusha Chakraborty</td>\n",
              "      <td>The ambience was good, food was quite good . h...</td>\n",
              "      <td>5</td>\n",
              "      <td>1 Review , 2 Followers</td>\n",
              "      <td>5/25/2019 15:54</td>\n",
              "      <td>0</td>\n",
              "      <td>2447.0</td>\n",
              "    </tr>\n",
              "    <tr>\n",
              "      <th>1</th>\n",
              "      <td>Beyond Flavours</td>\n",
              "      <td>Anusha Tirumalaneedi</td>\n",
              "      <td>Ambience is too good for a pleasant evening. S...</td>\n",
              "      <td>5</td>\n",
              "      <td>3 Reviews , 2 Followers</td>\n",
              "      <td>5/25/2019 14:20</td>\n",
              "      <td>0</td>\n",
              "      <td>NaN</td>\n",
              "    </tr>\n",
              "    <tr>\n",
              "      <th>2</th>\n",
              "      <td>Beyond Flavours</td>\n",
              "      <td>Ashok Shekhawat</td>\n",
              "      <td>A must try.. great food great ambience. Thnx f...</td>\n",
              "      <td>5</td>\n",
              "      <td>2 Reviews , 3 Followers</td>\n",
              "      <td>5/24/2019 22:54</td>\n",
              "      <td>0</td>\n",
              "      <td>NaN</td>\n",
              "    </tr>\n",
              "    <tr>\n",
              "      <th>3</th>\n",
              "      <td>Beyond Flavours</td>\n",
              "      <td>Swapnil Sarkar</td>\n",
              "      <td>Soumen das and Arun was a great guy. Only beca...</td>\n",
              "      <td>5</td>\n",
              "      <td>1 Review , 1 Follower</td>\n",
              "      <td>5/24/2019 22:11</td>\n",
              "      <td>0</td>\n",
              "      <td>NaN</td>\n",
              "    </tr>\n",
              "    <tr>\n",
              "      <th>4</th>\n",
              "      <td>Beyond Flavours</td>\n",
              "      <td>Dileep</td>\n",
              "      <td>Food is good.we ordered Kodi drumsticks and ba...</td>\n",
              "      <td>5</td>\n",
              "      <td>3 Reviews , 2 Followers</td>\n",
              "      <td>5/24/2019 21:37</td>\n",
              "      <td>0</td>\n",
              "      <td>NaN</td>\n",
              "    </tr>\n",
              "  </tbody>\n",
              "</table>\n",
              "</div>\n",
              "    <div class=\"colab-df-buttons\">\n",
              "      \n",
              "  <div class=\"colab-df-container\">\n",
              "    <button class=\"colab-df-convert\" onclick=\"convertToInteractive('df-c61cecc5-335f-4b75-9e4d-e1a14d491147')\"\n",
              "            title=\"Convert this dataframe to an interactive table.\"\n",
              "            style=\"display:none;\">\n",
              "      \n",
              "  <svg xmlns=\"http://www.w3.org/2000/svg\" height=\"24px\" viewBox=\"0 -960 960 960\">\n",
              "    <path d=\"M120-120v-720h720v720H120Zm60-500h600v-160H180v160Zm220 220h160v-160H400v160Zm0 220h160v-160H400v160ZM180-400h160v-160H180v160Zm440 0h160v-160H620v160ZM180-180h160v-160H180v160Zm440 0h160v-160H620v160Z\"/>\n",
              "  </svg>\n",
              "    </button>\n",
              "    \n",
              "  <style>\n",
              "    .colab-df-container {\n",
              "      display:flex;\n",
              "      gap: 12px;\n",
              "    }\n",
              "\n",
              "    .colab-df-convert {\n",
              "      background-color: #E8F0FE;\n",
              "      border: none;\n",
              "      border-radius: 50%;\n",
              "      cursor: pointer;\n",
              "      display: none;\n",
              "      fill: #1967D2;\n",
              "      height: 32px;\n",
              "      padding: 0 0 0 0;\n",
              "      width: 32px;\n",
              "    }\n",
              "\n",
              "    .colab-df-convert:hover {\n",
              "      background-color: #E2EBFA;\n",
              "      box-shadow: 0px 1px 2px rgba(60, 64, 67, 0.3), 0px 1px 3px 1px rgba(60, 64, 67, 0.15);\n",
              "      fill: #174EA6;\n",
              "    }\n",
              "\n",
              "    .colab-df-buttons div {\n",
              "      margin-bottom: 4px;\n",
              "    }\n",
              "\n",
              "    [theme=dark] .colab-df-convert {\n",
              "      background-color: #3B4455;\n",
              "      fill: #D2E3FC;\n",
              "    }\n",
              "\n",
              "    [theme=dark] .colab-df-convert:hover {\n",
              "      background-color: #434B5C;\n",
              "      box-shadow: 0px 1px 3px 1px rgba(0, 0, 0, 0.15);\n",
              "      filter: drop-shadow(0px 1px 2px rgba(0, 0, 0, 0.3));\n",
              "      fill: #FFFFFF;\n",
              "    }\n",
              "  </style>\n",
              "\n",
              "    <script>\n",
              "      const buttonEl =\n",
              "        document.querySelector('#df-c61cecc5-335f-4b75-9e4d-e1a14d491147 button.colab-df-convert');\n",
              "      buttonEl.style.display =\n",
              "        google.colab.kernel.accessAllowed ? 'block' : 'none';\n",
              "\n",
              "      async function convertToInteractive(key) {\n",
              "        const element = document.querySelector('#df-c61cecc5-335f-4b75-9e4d-e1a14d491147');\n",
              "        const dataTable =\n",
              "          await google.colab.kernel.invokeFunction('convertToInteractive',\n",
              "                                                    [key], {});\n",
              "        if (!dataTable) return;\n",
              "\n",
              "        const docLinkHtml = 'Like what you see? Visit the ' +\n",
              "          '<a target=\"_blank\" href=https://colab.research.google.com/notebooks/data_table.ipynb>data table notebook</a>'\n",
              "          + ' to learn more about interactive tables.';\n",
              "        element.innerHTML = '';\n",
              "        dataTable['output_type'] = 'display_data';\n",
              "        await google.colab.output.renderOutput(dataTable, element);\n",
              "        const docLink = document.createElement('div');\n",
              "        docLink.innerHTML = docLinkHtml;\n",
              "        element.appendChild(docLink);\n",
              "      }\n",
              "    </script>\n",
              "  </div>\n",
              "  \n",
              "    </div>\n",
              "  </div>\n",
              "  "
            ]
          },
          "metadata": {},
          "execution_count": 2
        }
      ]
    },
    {
      "cell_type": "markdown",
      "source": [
        "# Data Cleaning"
      ],
      "metadata": {
        "id": "XWLWDz6TsUX2"
      }
    },
    {
      "cell_type": "markdown",
      "source": [
        "Dropping irrelevant columns"
      ],
      "metadata": {
        "id": "47QN2_FjkBw5"
      }
    },
    {
      "cell_type": "code",
      "source": [
        "df = df.drop([\"Reviewer\", \"Metadata\", \"Pictures\" ,\"7514\"], axis=1)"
      ],
      "metadata": {
        "execution": {
          "iopub.status.busy": "2023-10-25T00:58:32.721564Z",
          "iopub.execute_input": "2023-10-25T00:58:32.721910Z",
          "iopub.status.idle": "2023-10-25T00:58:32.732451Z",
          "shell.execute_reply.started": "2023-10-25T00:58:32.721881Z",
          "shell.execute_reply": "2023-10-25T00:58:32.731358Z"
        },
        "trusted": true,
        "id": "g92Srf1FsUX4"
      },
      "execution_count": 3,
      "outputs": []
    },
    {
      "cell_type": "markdown",
      "source": [
        "Dealing with missing values"
      ],
      "metadata": {
        "id": "02usIPgJkJ0z"
      }
    },
    {
      "cell_type": "code",
      "source": [
        "df.isnull().sum()\n"
      ],
      "metadata": {
        "colab": {
          "base_uri": "https://localhost:8080/",
          "height": 210
        },
        "id": "mYAR1hYJXii1",
        "outputId": "4fa645d8-e98a-4a03-e21f-fcccc53b2b39"
      },
      "execution_count": 4,
      "outputs": [
        {
          "output_type": "execute_result",
          "data": {
            "text/plain": [
              "Restaurant     0\n",
              "Review        45\n",
              "Rating        38\n",
              "Time          38\n",
              "dtype: int64"
            ],
            "text/html": [
              "<div>\n",
              "<style scoped>\n",
              "    .dataframe tbody tr th:only-of-type {\n",
              "        vertical-align: middle;\n",
              "    }\n",
              "\n",
              "    .dataframe tbody tr th {\n",
              "        vertical-align: top;\n",
              "    }\n",
              "\n",
              "    .dataframe thead th {\n",
              "        text-align: right;\n",
              "    }\n",
              "</style>\n",
              "<table border=\"1\" class=\"dataframe\">\n",
              "  <thead>\n",
              "    <tr style=\"text-align: right;\">\n",
              "      <th></th>\n",
              "      <th>0</th>\n",
              "    </tr>\n",
              "  </thead>\n",
              "  <tbody>\n",
              "    <tr>\n",
              "      <th>Restaurant</th>\n",
              "      <td>0</td>\n",
              "    </tr>\n",
              "    <tr>\n",
              "      <th>Review</th>\n",
              "      <td>45</td>\n",
              "    </tr>\n",
              "    <tr>\n",
              "      <th>Rating</th>\n",
              "      <td>38</td>\n",
              "    </tr>\n",
              "    <tr>\n",
              "      <th>Time</th>\n",
              "      <td>38</td>\n",
              "    </tr>\n",
              "  </tbody>\n",
              "</table>\n",
              "</div><br><label><b>dtype:</b> int64</label>"
            ]
          },
          "metadata": {},
          "execution_count": 4
        }
      ]
    },
    {
      "cell_type": "code",
      "source": [
        "df[\"Review\"] = df[\"Review\"].fillna(\"Nothing\")"
      ],
      "metadata": {
        "id": "qxU6jrWnXfo1"
      },
      "execution_count": 5,
      "outputs": []
    },
    {
      "cell_type": "code",
      "source": [
        "df.dropna(inplace=True) #Drop remaining null values"
      ],
      "metadata": {
        "id": "zquwur3KXvyJ"
      },
      "execution_count": 6,
      "outputs": []
    },
    {
      "cell_type": "markdown",
      "source": [
        "Converting the \"Rating\" column into a binary classification"
      ],
      "metadata": {
        "id": "V4OSfQ3kkNyj"
      }
    },
    {
      "cell_type": "code",
      "source": [
        "df[\"Rating\"].unique()"
      ],
      "metadata": {
        "colab": {
          "base_uri": "https://localhost:8080/"
        },
        "id": "7S0aPzIJkHKX",
        "outputId": "df212aa4-47f5-4f98-b78b-e72a193d7013"
      },
      "execution_count": 7,
      "outputs": [
        {
          "output_type": "execute_result",
          "data": {
            "text/plain": [
              "array(['5', '4', '1', '3', '2', '3.5', '4.5', '2.5', '1.5', 'Like'],\n",
              "      dtype=object)"
            ]
          },
          "metadata": {},
          "execution_count": 7
        }
      ]
    },
    {
      "cell_type": "code",
      "source": [
        "df['Rating'].value_counts().idxmax()"
      ],
      "metadata": {
        "execution": {
          "iopub.status.busy": "2023-10-25T00:58:32.790300Z",
          "iopub.execute_input": "2023-10-25T00:58:32.791119Z",
          "iopub.status.idle": "2023-10-25T00:58:32.804558Z",
          "shell.execute_reply.started": "2023-10-25T00:58:32.791083Z",
          "shell.execute_reply": "2023-10-25T00:58:32.803769Z"
        },
        "trusted": true,
        "colab": {
          "base_uri": "https://localhost:8080/",
          "height": 35
        },
        "id": "wYYwbDocsUX7",
        "outputId": "a495c01f-9f6a-4d9f-a3d9-66327c97a93a"
      },
      "execution_count": 8,
      "outputs": [
        {
          "output_type": "execute_result",
          "data": {
            "text/plain": [
              "'5'"
            ],
            "application/vnd.google.colaboratory.intrinsic+json": {
              "type": "string"
            }
          },
          "metadata": {},
          "execution_count": 8
        }
      ]
    },
    {
      "cell_type": "code",
      "source": [
        "df['Rating'] = np.where(df[\"Rating\"] == \"Like\", df['Rating'].value_counts().idxmax(), df['Rating'])"
      ],
      "metadata": {
        "execution": {
          "iopub.status.busy": "2023-10-25T00:58:32.807272Z",
          "iopub.execute_input": "2023-10-25T00:58:32.808174Z",
          "iopub.status.idle": "2023-10-25T00:58:32.816956Z",
          "shell.execute_reply.started": "2023-10-25T00:58:32.808145Z",
          "shell.execute_reply": "2023-10-25T00:58:32.816104Z"
        },
        "trusted": true,
        "id": "7BseBknesUX8"
      },
      "execution_count": 9,
      "outputs": []
    },
    {
      "cell_type": "code",
      "source": [
        "df[\"Rating\"] = list(map(lambda data: float(data) >= 3, df[\"Rating\"]))"
      ],
      "metadata": {
        "execution": {
          "iopub.status.busy": "2023-10-25T00:58:32.837334Z",
          "iopub.execute_input": "2023-10-25T00:58:32.837642Z",
          "iopub.status.idle": "2023-10-25T00:58:32.854473Z",
          "shell.execute_reply.started": "2023-10-25T00:58:32.837606Z",
          "shell.execute_reply": "2023-10-25T00:58:32.853181Z"
        },
        "trusted": true,
        "id": "W84qVF-OsUX9"
      },
      "execution_count": 10,
      "outputs": []
    },
    {
      "cell_type": "code",
      "source": [
        "df[\"Rating\"].unique()"
      ],
      "metadata": {
        "execution": {
          "iopub.status.busy": "2023-10-25T00:58:32.856106Z",
          "iopub.execute_input": "2023-10-25T00:58:32.857071Z",
          "iopub.status.idle": "2023-10-25T00:58:32.870975Z",
          "shell.execute_reply.started": "2023-10-25T00:58:32.857029Z",
          "shell.execute_reply": "2023-10-25T00:58:32.870127Z"
        },
        "trusted": true,
        "colab": {
          "base_uri": "https://localhost:8080/"
        },
        "id": "g15QqNeWsUX9",
        "outputId": "1fd52310-bcae-47bb-f46a-96a5b9a2bd61"
      },
      "execution_count": 11,
      "outputs": [
        {
          "output_type": "execute_result",
          "data": {
            "text/plain": [
              "array([ True, False])"
            ]
          },
          "metadata": {},
          "execution_count": 11
        }
      ]
    },
    {
      "cell_type": "markdown",
      "source": [
        "Split the \"Time\" column into separate day, month, and year"
      ],
      "metadata": {
        "id": "NoUu6DcekbX0"
      }
    },
    {
      "cell_type": "code",
      "source": [
        "df['Time'] = pd.to_datetime(df['Time'])\n",
        "df['Day'] = df.Time.dt.day_name()\n",
        "df['Month'] = df.Time.dt.month\n",
        "df['Week'] = df.Time.dt.weekday\n",
        "df['Year'] = df.Time.dt.year"
      ],
      "metadata": {
        "execution": {
          "iopub.status.busy": "2023-10-25T00:58:32.949094Z",
          "iopub.execute_input": "2023-10-25T00:58:32.950057Z",
          "iopub.status.idle": "2023-10-25T00:58:32.972778Z",
          "shell.execute_reply.started": "2023-10-25T00:58:32.950028Z",
          "shell.execute_reply": "2023-10-25T00:58:32.971571Z"
        },
        "trusted": true,
        "id": "zQiE5W_5sUYA"
      },
      "execution_count": 12,
      "outputs": []
    },
    {
      "cell_type": "markdown",
      "source": [
        "Handling Data Imbalance using Stratified Sampling"
      ],
      "metadata": {
        "id": "w6ta20GvQBOM"
      }
    },
    {
      "cell_type": "code",
      "source": [
        "from sklearn.model_selection import train_test_split\n",
        "\n",
        "# Separate features (X) and target (y)\n",
        "X = df.drop('Rating', axis=1)\n",
        "y = df['Rating']\n",
        "\n",
        "# Perform stratified sampling\n",
        "X_train, X_test, y_train, y_test = train_test_split(X, y, test_size=0.2, stratify=y, random_state=42)\n",
        "\n",
        "# Now X_train and y_train contain the stratified samples\n",
        "# You can proceed with your model training using X_train and y_train\n",
        "print(f\"Training data shape: {X_train.shape}\")\n",
        "print(f\"Test data shape: {X_test.shape}\")\n"
      ],
      "metadata": {
        "colab": {
          "base_uri": "https://localhost:8080/"
        },
        "id": "9YaVpwlQP9Ki",
        "outputId": "fe6d993b-4700-4982-c309-0cb536ff1971"
      },
      "execution_count": 13,
      "outputs": [
        {
          "output_type": "stream",
          "name": "stdout",
          "text": [
            "Training data shape: (7969, 7)\n",
            "Test data shape: (1993, 7)\n"
          ]
        }
      ]
    },
    {
      "cell_type": "markdown",
      "source": [
        "# Exploratory Data Analysis"
      ],
      "metadata": {
        "id": "zuqsvfIkufxB"
      }
    },
    {
      "cell_type": "code",
      "source": [
        "import matplotlib.pyplot as plt\n",
        "import seaborn as sns"
      ],
      "metadata": {
        "id": "LAZghYizuqO5"
      },
      "execution_count": 14,
      "outputs": []
    },
    {
      "cell_type": "code",
      "source": [
        "plt.title('Rating Distribution by Year')\n",
        "sns.countplot(data = df, x = 'Year', hue = 'Rating');"
      ],
      "metadata": {
        "colab": {
          "base_uri": "https://localhost:8080/",
          "height": 472
        },
        "id": "tKiaGLVbunFY",
        "outputId": "bf60db05-a4c0-48e1-96ff-2b3a8dbbf48b"
      },
      "execution_count": 15,
      "outputs": [
        {
          "output_type": "display_data",
          "data": {
            "text/plain": [
              "<Figure size 640x480 with 1 Axes>"
            ],
            "image/png": "[encoded data removed]"
          },
          "metadata": {}
        }
      ]
    },
    {
      "cell_type": "code",
      "source": [
        "plt.figure(figsize=(8,5))\n",
        "plt.title('Rating Distribution by Day')\n",
        "sns.countplot(data = df, x = 'Day', hue = 'Rating',\n",
        "              order= ['Monday', 'Tuesday', 'Wednesday', 'Thursday', 'Friday', 'Saturday', 'Sunday']);"
      ],
      "metadata": {
        "colab": {
          "base_uri": "https://localhost:8080/",
          "height": 487
        },
        "id": "z7ITzRpLu12n",
        "outputId": "022c3201-6e6b-44eb-98e6-5aecf4adeeed"
      },
      "execution_count": 16,
      "outputs": [
        {
          "output_type": "display_data",
          "data": {
            "text/plain": [
              "<Figure size 800x500 with 1 Axes>"
            ],
            "image/png": "[encoded data removed]"
          },
          "metadata": {}
        }
      ]
    },
    {
      "cell_type": "code",
      "source": [
        "plt.figure(figsize=(8,5))\n",
        "plt.title('Rating Distribution by Month')\n",
        "sns.countplot(data = df, x = 'Month', hue = 'Rating');"
      ],
      "metadata": {
        "colab": {
          "base_uri": "https://localhost:8080/",
          "height": 487
        },
        "id": "WKFzYEetu4j8",
        "outputId": "0de8393b-0150-44e4-ce06-d72b0ef60af4"
      },
      "execution_count": 17,
      "outputs": [
        {
          "output_type": "display_data",
          "data": {
            "text/plain": [
              "<Figure size 800x500 with 1 Axes>"
            ],
            "image/png": "[encoded data removed]"
          },
          "metadata": {}
        }
      ]
    },
    {
      "cell_type": "code",
      "source": [
        "plt.figure(figsize=(8,5))\n",
        "plt.title('Rating Distribution by Week Number')\n",
        "sns.countplot(data = df, x = 'Week', hue = 'Rating');"
      ],
      "metadata": {
        "colab": {
          "base_uri": "https://localhost:8080/",
          "height": 487
        },
        "id": "omT-hq1fu6Vb",
        "outputId": "f2b0a2af-bd80-411c-8b61-5176a4877dd5"
      },
      "execution_count": 18,
      "outputs": [
        {
          "output_type": "display_data",
          "data": {
            "text/plain": [
              "<Figure size 800x500 with 1 Axes>"
            ],
            "image/png": "[encoded data removed]"
          },
          "metadata": {}
        }
      ]
    },
    {
      "cell_type": "code",
      "source": [
        "#Make second data frame to count the negative and postive percentage for each retaurant\n",
        "df_piv = pd.crosstab(index = df.Restaurant, columns= df.Rating, normalize= ('index')).reset_index()\n",
        "df_piv.head()"
      ],
      "metadata": {
        "colab": {
          "base_uri": "https://localhost:8080/",
          "height": 206
        },
        "id": "QmP95IWiu_dJ",
        "outputId": "e6c8411a-de87-4893-e88a-7d585b4c042b"
      },
      "execution_count": 19,
      "outputs": [
        {
          "output_type": "execute_result",
          "data": {
            "text/plain": [
              "Rating                      Restaurant  False  True\n",
              "0                    10 Downing Street   0.12  0.88\n",
              "1                             13 Dhaba   0.29  0.71\n",
              "2       3B's - Buddies, Bar & Barbecue   0.06  0.94\n",
              "3            AB's - Absolute Barbecues   0.02  0.98\n",
              "4                    Absolute Sizzlers   0.27  0.73"
            ],
            "text/html": [
              "\n",
              "  <div id=\"df-1f673637-3f30-44db-a220-34622a39372b\" class=\"colab-df-container\">\n",
              "    <div>\n",
              "<style scoped>\n",
              "    .dataframe tbody tr th:only-of-type {\n",
              "        vertical-align: middle;\n",
              "    }\n",
              "\n",
              "    .dataframe tbody tr th {\n",
              "        vertical-align: top;\n",
              "    }\n",
              "\n",
              "    .dataframe thead th {\n",
              "        text-align: right;\n",
              "    }\n",
              "</style>\n",
              "<table border=\"1\" class=\"dataframe\">\n",
              "  <thead>\n",
              "    <tr style=\"text-align: right;\">\n",
              "      <th>Rating</th>\n",
              "      <th>Restaurant</th>\n",
              "      <th>False</th>\n",
              "      <th>True</th>\n",
              "    </tr>\n",
              "  </thead>\n",
              "  <tbody>\n",
              "    <tr>\n",
              "      <th>0</th>\n",
              "      <td>10 Downing Street</td>\n",
              "      <td>0.12</td>\n",
              "      <td>0.88</td>\n",
              "    </tr>\n",
              "    <tr>\n",
              "      <th>1</th>\n",
              "      <td>13 Dhaba</td>\n",
              "      <td>0.29</td>\n",
              "      <td>0.71</td>\n",
              "    </tr>\n",
              "    <tr>\n",
              "      <th>2</th>\n",
              "      <td>3B's - Buddies, Bar &amp; Barbecue</td>\n",
              "      <td>0.06</td>\n",
              "      <td>0.94</td>\n",
              "    </tr>\n",
              "    <tr>\n",
              "      <th>3</th>\n",
              "      <td>AB's - Absolute Barbecues</td>\n",
              "      <td>0.02</td>\n",
              "      <td>0.98</td>\n",
              "    </tr>\n",
              "    <tr>\n",
              "      <th>4</th>\n",
              "      <td>Absolute Sizzlers</td>\n",
              "      <td>0.27</td>\n",
              "      <td>0.73</td>\n",
              "    </tr>\n",
              "  </tbody>\n",
              "</table>\n",
              "</div>\n",
              "    <div class=\"colab-df-buttons\">\n",
              "      \n",
              "  <div class=\"colab-df-container\">\n",
              "    <button class=\"colab-df-convert\" onclick=\"convertToInteractive('df-1f673637-3f30-44db-a220-34622a39372b')\"\n",
              "            title=\"Convert this dataframe to an interactive table.\"\n",
              "            style=\"display:none;\">\n",
              "      \n",
              "  <svg xmlns=\"http://www.w3.org/2000/svg\" height=\"24px\" viewBox=\"0 -960 960 960\">\n",
              "    <path d=\"M120-120v-720h720v720H120Zm60-500h600v-160H180v160Zm220 220h160v-160H400v160Zm0 220h160v-160H400v160ZM180-400h160v-160H180v160Zm440 0h160v-160H620v160ZM180-180h160v-160H180v160Zm440 0h160v-160H620v160Z\"/>\n",
              "  </svg>\n",
              "    </button>\n",
              "    \n",
              "  <style>\n",
              "    .colab-df-container {\n",
              "      display:flex;\n",
              "      gap: 12px;\n",
              "    }\n",
              "\n",
              "    .colab-df-convert {\n",
              "      background-color: #E8F0FE;\n",
              "      border: none;\n",
              "      border-radius: 50%;\n",
              "      cursor: pointer;\n",
              "      display: none;\n",
              "      fill: #1967D2;\n",
              "      height: 32px;\n",
              "      padding: 0 0 0 0;\n",
              "      width: 32px;\n",
              "    }\n",
              "\n",
              "    .colab-df-convert:hover {\n",
              "      background-color: #E2EBFA;\n",
              "      box-shadow: 0px 1px 2px rgba(60, 64, 67, 0.3), 0px 1px 3px 1px rgba(60, 64, 67, 0.15);\n",
              "      fill: #174EA6;\n",
              "    }\n",
              "\n",
              "    .colab-df-buttons div {\n",
              "      margin-bottom: 4px;\n",
              "    }\n",
              "\n",
              "    [theme=dark] .colab-df-convert {\n",
              "      background-color: #3B4455;\n",
              "      fill: #D2E3FC;\n",
              "    }\n",
              "\n",
              "    [theme=dark] .colab-df-convert:hover {\n",
              "      background-color: #434B5C;\n",
              "      box-shadow: 0px 1px 3px 1px rgba(0, 0, 0, 0.15);\n",
              "      filter: drop-shadow(0px 1px 2px rgba(0, 0, 0, 0.3));\n",
              "      fill: #FFFFFF;\n",
              "    }\n",
              "  </style>\n",
              "\n",
              "    <script>\n",
              "      const buttonEl =\n",
              "        document.querySelector('#df-1f673637-3f30-44db-a220-34622a39372b button.colab-df-convert');\n",
              "      buttonEl.style.display =\n",
              "        google.colab.kernel.accessAllowed ? 'block' : 'none';\n",
              "\n",
              "      async function convertToInteractive(key) {\n",
              "        const element = document.querySelector('#df-1f673637-3f30-44db-a220-34622a39372b');\n",
              "        const dataTable =\n",
              "          await google.colab.kernel.invokeFunction('convertToInteractive',\n",
              "                                                    [key], {});\n",
              "        if (!dataTable) return;\n",
              "\n",
              "        const docLinkHtml = 'Like what you see? Visit the ' +\n",
              "          '<a target=\"_blank\" href=https://colab.research.google.com/notebooks/data_table.ipynb>data table notebook</a>'\n",
              "          + ' to learn more about interactive tables.';\n",
              "        element.innerHTML = '';\n",
              "        dataTable['output_type'] = 'display_data';\n",
              "        await google.colab.output.renderOutput(dataTable, element);\n",
              "        const docLink = document.createElement('div');\n",
              "        docLink.innerHTML = docLinkHtml;\n",
              "        element.appendChild(docLink);\n",
              "      }\n",
              "    </script>\n",
              "  </div>\n",
              "  \n",
              "    </div>\n",
              "  </div>\n",
              "  "
            ]
          },
          "metadata": {},
          "execution_count": 19
        }
      ]
    },
    {
      "cell_type": "code",
      "source": [
        "df_piv = pd.crosstab(index = df.Restaurant, columns= df.Rating, normalize= ('index')).reset_index()\n",
        "# Rename the columns to 'Negative' and 'Positive'\n",
        "df_piv.columns = ['Restaurant', 'Negative', 'Positive']\n",
        "df_piv.head()"
      ],
      "metadata": {
        "colab": {
          "base_uri": "https://localhost:8080/",
          "height": 206
        },
        "id": "kgUELqRxvoS5",
        "outputId": "7bd494d1-023b-4fc1-de7a-3974228d121b"
      },
      "execution_count": 20,
      "outputs": [
        {
          "output_type": "execute_result",
          "data": {
            "text/plain": [
              "                       Restaurant  Negative  Positive\n",
              "0               10 Downing Street      0.12      0.88\n",
              "1                        13 Dhaba      0.29      0.71\n",
              "2  3B's - Buddies, Bar & Barbecue      0.06      0.94\n",
              "3       AB's - Absolute Barbecues      0.02      0.98\n",
              "4               Absolute Sizzlers      0.27      0.73"
            ],
            "text/html": [
              "\n",
              "  <div id=\"df-ef72d592-9e58-42c6-a3cc-35a3761b0d23\" class=\"colab-df-container\">\n",
              "    <div>\n",
              "<style scoped>\n",
              "    .dataframe tbody tr th:only-of-type {\n",
              "        vertical-align: middle;\n",
              "    }\n",
              "\n",
              "    .dataframe tbody tr th {\n",
              "        vertical-align: top;\n",
              "    }\n",
              "\n",
              "    .dataframe thead th {\n",
              "        text-align: right;\n",
              "    }\n",
              "</style>\n",
              "<table border=\"1\" class=\"dataframe\">\n",
              "  <thead>\n",
              "    <tr style=\"text-align: right;\">\n",
              "      <th></th>\n",
              "      <th>Restaurant</th>\n",
              "      <th>Negative</th>\n",
              "      <th>Positive</th>\n",
              "    </tr>\n",
              "  </thead>\n",
              "  <tbody>\n",
              "    <tr>\n",
              "      <th>0</th>\n",
              "      <td>10 Downing Street</td>\n",
              "      <td>0.12</td>\n",
              "      <td>0.88</td>\n",
              "    </tr>\n",
              "    <tr>\n",
              "      <th>1</th>\n",
              "      <td>13 Dhaba</td>\n",
              "      <td>0.29</td>\n",
              "      <td>0.71</td>\n",
              "    </tr>\n",
              "    <tr>\n",
              "      <th>2</th>\n",
              "      <td>3B's - Buddies, Bar &amp; Barbecue</td>\n",
              "      <td>0.06</td>\n",
              "      <td>0.94</td>\n",
              "    </tr>\n",
              "    <tr>\n",
              "      <th>3</th>\n",
              "      <td>AB's - Absolute Barbecues</td>\n",
              "      <td>0.02</td>\n",
              "      <td>0.98</td>\n",
              "    </tr>\n",
              "    <tr>\n",
              "      <th>4</th>\n",
              "      <td>Absolute Sizzlers</td>\n",
              "      <td>0.27</td>\n",
              "      <td>0.73</td>\n",
              "    </tr>\n",
              "  </tbody>\n",
              "</table>\n",
              "</div>\n",
              "    <div class=\"colab-df-buttons\">\n",
              "      \n",
              "  <div class=\"colab-df-container\">\n",
              "    <button class=\"colab-df-convert\" onclick=\"convertToInteractive('df-ef72d592-9e58-42c6-a3cc-35a3761b0d23')\"\n",
              "            title=\"Convert this dataframe to an interactive table.\"\n",
              "            style=\"display:none;\">\n",
              "      \n",
              "  <svg xmlns=\"http://www.w3.org/2000/svg\" height=\"24px\" viewBox=\"0 -960 960 960\">\n",
              "    <path d=\"M120-120v-720h720v720H120Zm60-500h600v-160H180v160Zm220 220h160v-160H400v160Zm0 220h160v-160H400v160ZM180-400h160v-160H180v160Zm440 0h160v-160H620v160ZM180-180h160v-160H180v160Zm440 0h160v-160H620v160Z\"/>\n",
              "  </svg>\n",
              "    </button>\n",
              "    \n",
              "  <style>\n",
              "    .colab-df-container {\n",
              "      display:flex;\n",
              "      gap: 12px;\n",
              "    }\n",
              "\n",
              "    .colab-df-convert {\n",
              "      background-color: #E8F0FE;\n",
              "      border: none;\n",
              "      border-radius: 50%;\n",
              "      cursor: pointer;\n",
              "      display: none;\n",
              "      fill: #1967D2;\n",
              "      height: 32px;\n",
              "      padding: 0 0 0 0;\n",
              "      width: 32px;\n",
              "    }\n",
              "\n",
              "    .colab-df-convert:hover {\n",
              "      background-color: #E2EBFA;\n",
              "      box-shadow: 0px 1px 2px rgba(60, 64, 67, 0.3), 0px 1px 3px 1px rgba(60, 64, 67, 0.15);\n",
              "      fill: #174EA6;\n",
              "    }\n",
              "\n",
              "    .colab-df-buttons div {\n",
              "      margin-bottom: 4px;\n",
              "    }\n",
              "\n",
              "    [theme=dark] .colab-df-convert {\n",
              "      background-color: #3B4455;\n",
              "      fill: #D2E3FC;\n",
              "    }\n",
              "\n",
              "    [theme=dark] .colab-df-convert:hover {\n",
              "      background-color: #434B5C;\n",
              "      box-shadow: 0px 1px 3px 1px rgba(0, 0, 0, 0.15);\n",
              "      filter: drop-shadow(0px 1px 2px rgba(0, 0, 0, 0.3));\n",
              "      fill: #FFFFFF;\n",
              "    }\n",
              "  </style>\n",
              "\n",
              "    <script>\n",
              "      const buttonEl =\n",
              "        document.querySelector('#df-ef72d592-9e58-42c6-a3cc-35a3761b0d23 button.colab-df-convert');\n",
              "      buttonEl.style.display =\n",
              "        google.colab.kernel.accessAllowed ? 'block' : 'none';\n",
              "\n",
              "      async function convertToInteractive(key) {\n",
              "        const element = document.querySelector('#df-ef72d592-9e58-42c6-a3cc-35a3761b0d23');\n",
              "        const dataTable =\n",
              "          await google.colab.kernel.invokeFunction('convertToInteractive',\n",
              "                                                    [key], {});\n",
              "        if (!dataTable) return;\n",
              "\n",
              "        const docLinkHtml = 'Like what you see? Visit the ' +\n",
              "          '<a target=\"_blank\" href=https://colab.research.google.com/notebooks/data_table.ipynb>data table notebook</a>'\n",
              "          + ' to learn more about interactive tables.';\n",
              "        element.innerHTML = '';\n",
              "        dataTable['output_type'] = 'display_data';\n",
              "        await google.colab.output.renderOutput(dataTable, element);\n",
              "        const docLink = document.createElement('div');\n",
              "        docLink.innerHTML = docLinkHtml;\n",
              "        element.appendChild(docLink);\n",
              "      }\n",
              "    </script>\n",
              "  </div>\n",
              "  \n",
              "    </div>\n",
              "  </div>\n",
              "  "
            ]
          },
          "metadata": {},
          "execution_count": 20
        }
      ]
    },
    {
      "cell_type": "code",
      "source": [
        "plt.figure(figsize=(10,5))\n",
        "plt.title('The Most Positive Rating Percentage Restaurant (Top 10)')\n",
        "df_piv.sort_values('Positive', ascending = False)\n",
        "sns.barplot(data = df_piv.sort_values('Positive', ascending = False).head(10), x = 'Restaurant', y = 'Positive')\n",
        "plt.xticks(rotation=70)\n",
        "plt.xlabel('Restaurant Name')"
      ],
      "metadata": {
        "colab": {
          "base_uri": "https://localhost:8080/",
          "height": 766
        },
        "id": "C8MikFnrvCMD",
        "outputId": "1015aa06-c83f-4c4d-891a-50d68e50a270"
      },
      "execution_count": 21,
      "outputs": [
        {
          "output_type": "execute_result",
          "data": {
            "text/plain": [
              "Text(0.5, 0, 'Restaurant Name')"
            ]
          },
          "metadata": {},
          "execution_count": 21
        },
        {
          "output_type": "display_data",
          "data": {
            "text/plain": [
              "<Figure size 1000x500 with 1 Axes>"
            ],
            "image/png": "[encoded data removed]"
          },
          "metadata": {}
        }
      ]
    },
    {
      "cell_type": "code",
      "source": [
        "plt.figure(figsize=(10,5))\n",
        "plt.title('The Worst Rating Percentage Restaurant (Top 10)')\n",
        "df_piv.sort_values('Positive', ascending = False)\n",
        "sns.barplot(data = df_piv.sort_values('Negative', ascending = False).head(10), x = 'Restaurant', y = 'Negative')\n",
        "plt.xticks(rotation=70)\n",
        "plt.xlabel('Restaurant Name')"
      ],
      "metadata": {
        "colab": {
          "base_uri": "https://localhost:8080/",
          "height": 758
        },
        "id": "VRTC-MoMvEIE",
        "outputId": "d8dffacc-4da4-479b-c698-147874d9f413"
      },
      "execution_count": 22,
      "outputs": [
        {
          "output_type": "execute_result",
          "data": {
            "text/plain": [
              "Text(0.5, 0, 'Restaurant Name')"
            ]
          },
          "metadata": {},
          "execution_count": 22
        },
        {
          "output_type": "display_data",
          "data": {
            "text/plain": [
              "<Figure size 1000x500 with 1 Axes>"
            ],
            "image/png": "[encoded data removed]"
          },
          "metadata": {}
        }
      ]
    },
    {
      "cell_type": "code",
      "source": [
        "df.Rating.value_counts(normalize = True)"
      ],
      "metadata": {
        "colab": {
          "base_uri": "https://localhost:8080/",
          "height": 178
        },
        "id": "DydPXJF5vIfP",
        "outputId": "ea8d7f76-286e-4e79-a214-bea8a4db9809"
      },
      "execution_count": 23,
      "outputs": [
        {
          "output_type": "execute_result",
          "data": {
            "text/plain": [
              "Rating\n",
              "True     0.754367\n",
              "False    0.245633\n",
              "Name: proportion, dtype: float64"
            ],
            "text/html": [
              "<div>\n",
              "<style scoped>\n",
              "    .dataframe tbody tr th:only-of-type {\n",
              "        vertical-align: middle;\n",
              "    }\n",
              "\n",
              "    .dataframe tbody tr th {\n",
              "        vertical-align: top;\n",
              "    }\n",
              "\n",
              "    .dataframe thead th {\n",
              "        text-align: right;\n",
              "    }\n",
              "</style>\n",
              "<table border=\"1\" class=\"dataframe\">\n",
              "  <thead>\n",
              "    <tr style=\"text-align: right;\">\n",
              "      <th></th>\n",
              "      <th>proportion</th>\n",
              "    </tr>\n",
              "    <tr>\n",
              "      <th>Rating</th>\n",
              "      <th></th>\n",
              "    </tr>\n",
              "  </thead>\n",
              "  <tbody>\n",
              "    <tr>\n",
              "      <th>True</th>\n",
              "      <td>0.754367</td>\n",
              "    </tr>\n",
              "    <tr>\n",
              "      <th>False</th>\n",
              "      <td>0.245633</td>\n",
              "    </tr>\n",
              "  </tbody>\n",
              "</table>\n",
              "</div><br><label><b>dtype:</b> float64</label>"
            ]
          },
          "metadata": {},
          "execution_count": 23
        }
      ]
    },
    {
      "cell_type": "markdown",
      "source": [
        "# Text Preprocessing"
      ],
      "metadata": {
        "id": "kY4AAEeqsUYA"
      }
    },
    {
      "cell_type": "code",
      "source": [
        "from nltk.tokenize import word_tokenize\n",
        "from nltk.stem import PorterStemmer\n",
        "from nltk.corpus import stopwords\n",
        "import re\n",
        "from sklearn.model_selection import train_test_split\n",
        "from sklearn.ensemble import RandomForestClassifier\n",
        "from sklearn.metrics import accuracy_score\n",
        "import nltk\n",
        "nltk.download('punkt_tab')\n",
        "nltk.download('stopwords')\n",
        "\n",
        "ps = PorterStemmer()"
      ],
      "metadata": {
        "execution": {
          "iopub.status.busy": "2023-10-25T00:58:32.986601Z",
          "iopub.execute_input": "2023-10-25T00:58:32.987852Z",
          "iopub.status.idle": "2023-10-25T00:58:33.985140Z",
          "shell.execute_reply.started": "2023-10-25T00:58:32.987813Z",
          "shell.execute_reply": "2023-10-25T00:58:33.983961Z"
        },
        "trusted": true,
        "colab": {
          "base_uri": "https://localhost:8080/"
        },
        "id": "i4bmCFrUsUYB",
        "outputId": "c3fd994b-834a-4eba-fe27-3d7d7f6ddf59"
      },
      "execution_count": 24,
      "outputs": [
        {
          "output_type": "stream",
          "name": "stderr",
          "text": [
            "[nltk_data] Downloading package punkt_tab to /root/nltk_data...\n",
            "[nltk_data]   Package punkt_tab is already up-to-date!\n",
            "[nltk_data] Downloading package stopwords to /root/nltk_data...\n",
            "[nltk_data]   Package stopwords is already up-to-date!\n"
          ]
        }
      ]
    },
    {
      "cell_type": "code",
      "source": [
        "reviewList = list(map(lambda data: word_tokenize(data), df[\"Review\"]))"
      ],
      "metadata": {
        "execution": {
          "iopub.status.busy": "2023-10-25T00:58:33.986463Z",
          "iopub.execute_input": "2023-10-25T00:58:33.986879Z",
          "iopub.status.idle": "2023-10-25T00:58:42.779072Z",
          "shell.execute_reply.started": "2023-10-25T00:58:33.986841Z",
          "shell.execute_reply": "2023-10-25T00:58:42.778145Z"
        },
        "trusted": true,
        "id": "m4_nZTu9sUYB"
      },
      "execution_count": 25,
      "outputs": []
    },
    {
      "cell_type": "code",
      "source": [
        "for index, word_list in enumerate(reviewList):\n",
        "    reviewList[index] = \" \".join([ps.stem(str(word)) for word in word_list if not word in stopwords.words(\"english\") and word not in [\".\", \",\", \"?\", \"@\", \"$\", \"/\"] and not word.isspace()])"
      ],
      "metadata": {
        "execution": {
          "iopub.status.busy": "2023-10-25T00:58:42.780457Z",
          "iopub.execute_input": "2023-10-25T00:58:42.780892Z",
          "iopub.status.idle": "2023-10-25T01:00:08.223032Z",
          "shell.execute_reply.started": "2023-10-25T00:58:42.780850Z",
          "shell.execute_reply": "2023-10-25T01:00:08.222051Z"
        },
        "trusted": true,
        "id": "bkRfdAfjsUYC"
      },
      "execution_count": 26,
      "outputs": []
    },
    {
      "cell_type": "code",
      "source": [
        "emoji_pattern = re.compile(\"[\"\n",
        "        u\"\\U0001F600-\\U0001F64F\"\n",
        "        u\"\\U0001F300-\\U0001F5FF\"\n",
        "        u\"\\U0001F680-\\U0001F6FF\"\n",
        "        u\"\\U0001F1E0-\\U0001F1FF\"\n",
        "        u\"\\U00002500-\\U00002BEF\"\n",
        "        u\"\\U00002702-\\U000027B0\"\n",
        "        u\"\\U000024C2-\\U0001F251\"\n",
        "        u\"\\U0001f926-\\U0001f937\"\n",
        "        u\"\\U00010000-\\U0010ffff\"\n",
        "        u\"\\u2640-\\u2642\"\n",
        "        u\"\\u2600-\\u2B55\"\n",
        "        u\"\\u200d\"\n",
        "        u\"\\u23cf\"\n",
        "        u\"\\u23e9\"\n",
        "        u\"\\u231a\"\n",
        "        u\"\\ufe0f\"\n",
        "        u\"\\u3030\"\n",
        "                      \"]+\", re.UNICODE)\n",
        "\n",
        "regexPuct = r\"[\\s\\w\\d]\""
      ],
      "metadata": {
        "execution": {
          "iopub.status.busy": "2023-10-25T01:00:08.224381Z",
          "iopub.execute_input": "2023-10-25T01:00:08.225231Z",
          "iopub.status.idle": "2023-10-25T01:00:08.236302Z",
          "shell.execute_reply.started": "2023-10-25T01:00:08.225201Z",
          "shell.execute_reply": "2023-10-25T01:00:08.235318Z"
        },
        "trusted": true,
        "id": "Ly_mXBrPsUYC"
      },
      "execution_count": 27,
      "outputs": []
    },
    {
      "cell_type": "code",
      "source": [
        "for index, word_list in enumerate(reviewList):\n",
        "    reviewList[index] = re.sub(emoji_pattern, r'', word_list)\n",
        "    reviewList[index] = \"\".join(re.findall(regexPuct, reviewList[index], re.MULTILINE))\n",
        "    reviewList[index] = \" \".join(reviewList[index].split())"
      ],
      "metadata": {
        "execution": {
          "iopub.status.busy": "2023-10-25T01:00:08.237609Z",
          "iopub.execute_input": "2023-10-25T01:00:08.237976Z",
          "iopub.status.idle": "2023-10-25T01:00:08.943936Z",
          "shell.execute_reply.started": "2023-10-25T01:00:08.237935Z",
          "shell.execute_reply": "2023-10-25T01:00:08.943037Z"
        },
        "trusted": true,
        "id": "aXf6hZxwsUYC"
      },
      "execution_count": 28,
      "outputs": []
    },
    {
      "cell_type": "code",
      "source": [
        "df[\"Review\"] = reviewList"
      ],
      "metadata": {
        "execution": {
          "iopub.status.busy": "2023-10-25T01:00:08.945474Z",
          "iopub.execute_input": "2023-10-25T01:00:08.946358Z",
          "iopub.status.idle": "2023-10-25T01:00:08.953499Z",
          "shell.execute_reply.started": "2023-10-25T01:00:08.946321Z",
          "shell.execute_reply": "2023-10-25T01:00:08.952722Z"
        },
        "trusted": true,
        "id": "TW5iOhYIsUYC"
      },
      "execution_count": 29,
      "outputs": []
    },
    {
      "cell_type": "code",
      "source": [
        "df.head()"
      ],
      "metadata": {
        "execution": {
          "iopub.status.busy": "2023-10-25T01:00:08.954867Z",
          "iopub.execute_input": "2023-10-25T01:00:08.955165Z",
          "iopub.status.idle": "2023-10-25T01:00:08.969864Z",
          "shell.execute_reply.started": "2023-10-25T01:00:08.955138Z",
          "shell.execute_reply": "2023-10-25T01:00:08.968854Z"
        },
        "trusted": true,
        "colab": {
          "base_uri": "https://localhost:8080/",
          "height": 206
        },
        "id": "WnG8j2oVsUYC",
        "outputId": "38432f16-5689-41e6-8e49-239a68467477"
      },
      "execution_count": 30,
      "outputs": [
        {
          "output_type": "execute_result",
          "data": {
            "text/plain": [
              "        Restaurant                                             Review  Rating  \\\n",
              "0  Beyond Flavours  the ambienc good food quit good saturday lunch...    True   \n",
              "1  Beyond Flavours  ambienc good pleasant even servic prompt food ...    True   \n",
              "2  Beyond Flavours  a must tri great food great ambienc thnx servi...    True   \n",
              "3  Beyond Flavours  soumen da arun great guy onli behavior sincere...    True   \n",
              "4  Beyond Flavours  food goodw order kodi drumstick basket mutton ...    True   \n",
              "\n",
              "                 Time       Day  Month  Week  Year  \n",
              "0 2019-05-25 15:54:00  Saturday      5     5  2019  \n",
              "1 2019-05-25 14:20:00  Saturday      5     5  2019  \n",
              "2 2019-05-24 22:54:00    Friday      5     4  2019  \n",
              "3 2019-05-24 22:11:00    Friday      5     4  2019  \n",
              "4 2019-05-24 21:37:00    Friday      5     4  2019  "
            ],
            "text/html": [
              "\n",
              "  <div id=\"df-b47a0007-d7fe-42a5-a610-bcb1be33e709\" class=\"colab-df-container\">\n",
              "    <div>\n",
              "<style scoped>\n",
              "    .dataframe tbody tr th:only-of-type {\n",
              "        vertical-align: middle;\n",
              "    }\n",
              "\n",
              "    .dataframe tbody tr th {\n",
              "        vertical-align: top;\n",
              "    }\n",
              "\n",
              "    .dataframe thead th {\n",
              "        text-align: right;\n",
              "    }\n",
              "</style>\n",
              "<table border=\"1\" class=\"dataframe\">\n",
              "  <thead>\n",
              "    <tr style=\"text-align: right;\">\n",
              "      <th></th>\n",
              "      <th>Restaurant</th>\n",
              "      <th>Review</th>\n",
              "      <th>Rating</th>\n",
              "      <th>Time</th>\n",
              "      <th>Day</th>\n",
              "      <th>Month</th>\n",
              "      <th>Week</th>\n",
              "      <th>Year</th>\n",
              "    </tr>\n",
              "  </thead>\n",
              "  <tbody>\n",
              "    <tr>\n",
              "      <th>0</th>\n",
              "      <td>Beyond Flavours</td>\n",
              "      <td>the ambienc good food quit good saturday lunch...</td>\n",
              "      <td>True</td>\n",
              "      <td>2019-05-25 15:54:00</td>\n",
              "      <td>Saturday</td>\n",
              "      <td>5</td>\n",
              "      <td>5</td>\n",
              "      <td>2019</td>\n",
              "    </tr>\n",
              "    <tr>\n",
              "      <th>1</th>\n",
              "      <td>Beyond Flavours</td>\n",
              "      <td>ambienc good pleasant even servic prompt food ...</td>\n",
              "      <td>True</td>\n",
              "      <td>2019-05-25 14:20:00</td>\n",
              "      <td>Saturday</td>\n",
              "      <td>5</td>\n",
              "      <td>5</td>\n",
              "      <td>2019</td>\n",
              "    </tr>\n",
              "    <tr>\n",
              "      <th>2</th>\n",
              "      <td>Beyond Flavours</td>\n",
              "      <td>a must tri great food great ambienc thnx servi...</td>\n",
              "      <td>True</td>\n",
              "      <td>2019-05-24 22:54:00</td>\n",
              "      <td>Friday</td>\n",
              "      <td>5</td>\n",
              "      <td>4</td>\n",
              "      <td>2019</td>\n",
              "    </tr>\n",
              "    <tr>\n",
              "      <th>3</th>\n",
              "      <td>Beyond Flavours</td>\n",
              "      <td>soumen da arun great guy onli behavior sincere...</td>\n",
              "      <td>True</td>\n",
              "      <td>2019-05-24 22:11:00</td>\n",
              "      <td>Friday</td>\n",
              "      <td>5</td>\n",
              "      <td>4</td>\n",
              "      <td>2019</td>\n",
              "    </tr>\n",
              "    <tr>\n",
              "      <th>4</th>\n",
              "      <td>Beyond Flavours</td>\n",
              "      <td>food goodw order kodi drumstick basket mutton ...</td>\n",
              "      <td>True</td>\n",
              "      <td>2019-05-24 21:37:00</td>\n",
              "      <td>Friday</td>\n",
              "      <td>5</td>\n",
              "      <td>4</td>\n",
              "      <td>2019</td>\n",
              "    </tr>\n",
              "  </tbody>\n",
              "</table>\n",
              "</div>\n",
              "    <div class=\"colab-df-buttons\">\n",
              "      \n",
              "  <div class=\"colab-df-container\">\n",
              "    <button class=\"colab-df-convert\" onclick=\"convertToInteractive('df-b47a0007-d7fe-42a5-a610-bcb1be33e709')\"\n",
              "            title=\"Convert this dataframe to an interactive table.\"\n",
              "            style=\"display:none;\">\n",
              "      \n",
              "  <svg xmlns=\"http://www.w3.org/2000/svg\" height=\"24px\" viewBox=\"0 -960 960 960\">\n",
              "    <path d=\"M120-120v-720h720v720H120Zm60-500h600v-160H180v160Zm220 220h160v-160H400v160Zm0 220h160v-160H400v160ZM180-400h160v-160H180v160Zm440 0h160v-160H620v160ZM180-180h160v-160H180v160Zm440 0h160v-160H620v160Z\"/>\n",
              "  </svg>\n",
              "    </button>\n",
              "    \n",
              "  <style>\n",
              "    .colab-df-container {\n",
              "      display:flex;\n",
              "      gap: 12px;\n",
              "    }\n",
              "\n",
              "    .colab-df-convert {\n",
              "      background-color: #E8F0FE;\n",
              "      border: none;\n",
              "      border-radius: 50%;\n",
              "      cursor: pointer;\n",
              "      display: none;\n",
              "      fill: #1967D2;\n",
              "      height: 32px;\n",
              "      padding: 0 0 0 0;\n",
              "      width: 32px;\n",
              "    }\n",
              "\n",
              "    .colab-df-convert:hover {\n",
              "      background-color: #E2EBFA;\n",
              "      box-shadow: 0px 1px 2px rgba(60, 64, 67, 0.3), 0px 1px 3px 1px rgba(60, 64, 67, 0.15);\n",
              "      fill: #174EA6;\n",
              "    }\n",
              "\n",
              "    .colab-df-buttons div {\n",
              "      margin-bottom: 4px;\n",
              "    }\n",
              "\n",
              "    [theme=dark] .colab-df-convert {\n",
              "      background-color: #3B4455;\n",
              "      fill: #D2E3FC;\n",
              "    }\n",
              "\n",
              "    [theme=dark] .colab-df-convert:hover {\n",
              "      background-color: #434B5C;\n",
              "      box-shadow: 0px 1px 3px 1px rgba(0, 0, 0, 0.15);\n",
              "      filter: drop-shadow(0px 1px 2px rgba(0, 0, 0, 0.3));\n",
              "      fill: #FFFFFF;\n",
              "    }\n",
              "  </style>\n",
              "\n",
              "    <script>\n",
              "      const buttonEl =\n",
              "        document.querySelector('#df-b47a0007-d7fe-42a5-a610-bcb1be33e709 button.colab-df-convert');\n",
              "      buttonEl.style.display =\n",
              "        google.colab.kernel.accessAllowed ? 'block' : 'none';\n",
              "\n",
              "      async function convertToInteractive(key) {\n",
              "        const element = document.querySelector('#df-b47a0007-d7fe-42a5-a610-bcb1be33e709');\n",
              "        const dataTable =\n",
              "          await google.colab.kernel.invokeFunction('convertToInteractive',\n",
              "                                                    [key], {});\n",
              "        if (!dataTable) return;\n",
              "\n",
              "        const docLinkHtml = 'Like what you see? Visit the ' +\n",
              "          '<a target=\"_blank\" href=https://colab.research.google.com/notebooks/data_table.ipynb>data table notebook</a>'\n",
              "          + ' to learn more about interactive tables.';\n",
              "        element.innerHTML = '';\n",
              "        dataTable['output_type'] = 'display_data';\n",
              "        await google.colab.output.renderOutput(dataTable, element);\n",
              "        const docLink = document.createElement('div');\n",
              "        docLink.innerHTML = docLinkHtml;\n",
              "        element.appendChild(docLink);\n",
              "      }\n",
              "    </script>\n",
              "  </div>\n",
              "  \n",
              "    </div>\n",
              "  </div>\n",
              "  "
            ]
          },
          "metadata": {},
          "execution_count": 30
        }
      ]
    },
    {
      "cell_type": "markdown",
      "source": [
        "# Splitting the Data in training and testing with ratio 80:20"
      ],
      "metadata": {
        "id": "sWiHriwIsUYD"
      }
    },
    {
      "cell_type": "code",
      "source": [
        "X = df[\"Review\"]\n",
        "y = df[\"Rating\"]\n",
        "\n",
        "X_train, X_test, y_train, y_test = train_test_split(X, y, test_size=0.2, random_state=42)"
      ],
      "metadata": {
        "execution": {
          "iopub.status.busy": "2023-10-25T01:00:08.971168Z",
          "iopub.execute_input": "2023-10-25T01:00:08.971517Z",
          "iopub.status.idle": "2023-10-25T01:00:08.981043Z",
          "shell.execute_reply.started": "2023-10-25T01:00:08.971492Z",
          "shell.execute_reply": "2023-10-25T01:00:08.980151Z"
        },
        "trusted": true,
        "id": "fZcLMCvLsUYD"
      },
      "execution_count": 31,
      "outputs": []
    },
    {
      "cell_type": "markdown",
      "source": [
        "# ML Model SVM"
      ],
      "metadata": {
        "id": "RFkmUwA6sUYE"
      }
    },
    {
      "cell_type": "code",
      "source": [
        "from sklearn.pipeline import Pipeline\n",
        "from sklearn.feature_extraction.text import TfidfVectorizer\n",
        "from sklearn.svm import SVC\n",
        "\n",
        "pipeline = Pipeline([\n",
        "    ('vectorizer', TfidfVectorizer(ngram_range=(1,3))),\n",
        "    ('classifier', SVC())\n",
        "])\n",
        "\n",
        "pipeline.fit(X_train, y_train)\n",
        "pipeline.score(X_test, y_test)"
      ],
      "metadata": {
        "execution": {
          "iopub.status.busy": "2023-10-25T01:00:08.998226Z",
          "iopub.execute_input": "2023-10-25T01:00:08.998547Z",
          "iopub.status.idle": "2023-10-25T01:00:46.030501Z",
          "shell.execute_reply.started": "2023-10-25T01:00:08.998521Z",
          "shell.execute_reply": "2023-10-25T01:00:46.029295Z"
        },
        "trusted": true,
        "colab": {
          "base_uri": "https://localhost:8080/"
        },
        "id": "ii4AFG23sUYE",
        "outputId": "41a03d83-5b23-4d59-99c7-5b6fa0d8d29d"
      },
      "execution_count": 32,
      "outputs": [
        {
          "output_type": "execute_result",
          "data": {
            "text/plain": [
              "0.9026593075765178"
            ]
          },
          "metadata": {},
          "execution_count": 32
        }
      ]
    },
    {
      "cell_type": "markdown",
      "source": [
        "# Testing Model"
      ],
      "metadata": {
        "id": "ODj-ZhNhsUYF"
      }
    },
    {
      "cell_type": "code",
      "source": [
        "positive_sentence = \"I absolutely love this product! It has exceeded all my expectations. It's well-designed, durable, and incredibly useful. I can't imagine my life without it now. I would highly recommend it to anyone looking for a high-quality, reliable product\"\n",
        "negative_sentence = \"I bought this product, and it was a complete waste of money. It stopped working after just a week, and the customer service was unhelpful and rude. I will never purchase anything from this company again.\""
      ],
      "metadata": {
        "execution": {
          "iopub.status.busy": "2023-10-25T01:11:08.566651Z",
          "iopub.execute_input": "2023-10-25T01:11:08.567065Z",
          "iopub.status.idle": "2023-10-25T01:11:08.573185Z",
          "shell.execute_reply.started": "2023-10-25T01:11:08.567036Z",
          "shell.execute_reply": "2023-10-25T01:11:08.571854Z"
        },
        "trusted": true,
        "id": "4m-4M19NsUYF"
      },
      "execution_count": 33,
      "outputs": []
    },
    {
      "cell_type": "code",
      "source": [
        "pipeline.predict([positive_sentence, negative_sentence])"
      ],
      "metadata": {
        "execution": {
          "iopub.status.busy": "2023-10-25T01:11:08.807788Z",
          "iopub.execute_input": "2023-10-25T01:11:08.809030Z",
          "iopub.status.idle": "2023-10-25T01:11:08.833062Z",
          "shell.execute_reply.started": "2023-10-25T01:11:08.808973Z",
          "shell.execute_reply": "2023-10-25T01:11:08.831817Z"
        },
        "trusted": true,
        "colab": {
          "base_uri": "https://localhost:8080/"
        },
        "id": "kvFGUtMesUYF",
        "outputId": "975052cf-1676-4393-e364-8ea39a89322e"
      },
      "execution_count": 34,
      "outputs": [
        {
          "output_type": "execute_result",
          "data": {
            "text/plain": [
              "array([ True, False])"
            ]
          },
          "metadata": {},
          "execution_count": 34
        }
      ]
    },
    {
      "cell_type": "code",
      "source": [
        "def preprocess(text):\n",
        "    text = word_tokenize(text)\n",
        "    text = \" \".join([ps.stem(str(word)) for word in text if not word in stopwords.words(\"english\") and word not in [\".\", \",\", \"?\", \"@\", \"$\", \"/\"] and not word.isspace()])\n",
        "    text = re.sub(emoji_pattern, r'', text)\n",
        "    text = \"\".join(re.findall(regexPuct, text, re.MULTILINE))\n",
        "    text = \" \".join(text.split())\n",
        "\n",
        "    return text"
      ],
      "metadata": {
        "execution": {
          "iopub.status.busy": "2023-10-25T01:11:09.655470Z",
          "iopub.execute_input": "2023-10-25T01:11:09.656739Z",
          "iopub.status.idle": "2023-10-25T01:11:09.665653Z",
          "shell.execute_reply.started": "2023-10-25T01:11:09.656672Z",
          "shell.execute_reply": "2023-10-25T01:11:09.664257Z"
        },
        "trusted": true,
        "id": "ZOCMyC7csUYG"
      },
      "execution_count": 35,
      "outputs": []
    },
    {
      "cell_type": "code",
      "source": [
        "positive_sentence = preprocess(positive_sentence)\n",
        "negative_sentence = preprocess(negative_sentence)"
      ],
      "metadata": {
        "execution": {
          "iopub.status.busy": "2023-10-25T01:11:11.114099Z",
          "iopub.execute_input": "2023-10-25T01:11:11.114630Z",
          "iopub.status.idle": "2023-10-25T01:11:11.140819Z",
          "shell.execute_reply.started": "2023-10-25T01:11:11.114583Z",
          "shell.execute_reply": "2023-10-25T01:11:11.139496Z"
        },
        "trusted": true,
        "id": "r1gPZYppsUYG"
      },
      "execution_count": 36,
      "outputs": []
    },
    {
      "cell_type": "code",
      "source": [
        "positive_sentence"
      ],
      "metadata": {
        "execution": {
          "iopub.status.busy": "2023-10-25T01:11:11.840520Z",
          "iopub.execute_input": "2023-10-25T01:11:11.841215Z",
          "iopub.status.idle": "2023-10-25T01:11:11.849136Z",
          "shell.execute_reply.started": "2023-10-25T01:11:11.841161Z",
          "shell.execute_reply": "2023-10-25T01:11:11.847347Z"
        },
        "trusted": true,
        "colab": {
          "base_uri": "https://localhost:8080/",
          "height": 53
        },
        "id": "cq08ylZ2sUYG",
        "outputId": "01437a4c-035d-4dd0-d420-661f9e105287"
      },
      "execution_count": 37,
      "outputs": [
        {
          "output_type": "execute_result",
          "data": {
            "text/plain": [
              "'i absolut love product it exceed expect it s welldesign durabl incred use i ca nt imagin life without i would highli recommend anyon look highqual reliabl product'"
            ],
            "application/vnd.google.colaboratory.intrinsic+json": {
              "type": "string"
            }
          },
          "metadata": {},
          "execution_count": 37
        }
      ]
    },
    {
      "cell_type": "code",
      "source": [
        "negative_sentence"
      ],
      "metadata": {
        "execution": {
          "iopub.status.busy": "2023-10-25T01:11:14.157230Z",
          "iopub.execute_input": "2023-10-25T01:11:14.158090Z",
          "iopub.status.idle": "2023-10-25T01:11:14.165694Z",
          "shell.execute_reply.started": "2023-10-25T01:11:14.158054Z",
          "shell.execute_reply": "2023-10-25T01:11:14.164552Z"
        },
        "trusted": true,
        "colab": {
          "base_uri": "https://localhost:8080/",
          "height": 35
        },
        "id": "L1OqjwVgsUYH",
        "outputId": "52e228b7-d928-424b-e3c5-bec4b81b54fd"
      },
      "execution_count": 38,
      "outputs": [
        {
          "output_type": "execute_result",
          "data": {
            "text/plain": [
              "'i bought product complet wast money it stop work week custom servic unhelp rude i never purchas anyth compani'"
            ],
            "application/vnd.google.colaboratory.intrinsic+json": {
              "type": "string"
            }
          },
          "metadata": {},
          "execution_count": 38
        }
      ]
    },
    {
      "cell_type": "code",
      "source": [
        "pipeline.predict([positive_sentence, negative_sentence])"
      ],
      "metadata": {
        "execution": {
          "iopub.status.busy": "2023-10-25T01:11:42.608300Z",
          "iopub.execute_input": "2023-10-25T01:11:42.608732Z",
          "iopub.status.idle": "2023-10-25T01:11:42.630273Z",
          "shell.execute_reply.started": "2023-10-25T01:11:42.608681Z",
          "shell.execute_reply": "2023-10-25T01:11:42.629383Z"
        },
        "trusted": true,
        "colab": {
          "base_uri": "https://localhost:8080/"
        },
        "id": "zYCn8oKvsUYH",
        "outputId": "314de1ae-2575-471c-a867-2202c2a0980c"
      },
      "execution_count": 39,
      "outputs": [
        {
          "output_type": "execute_result",
          "data": {
            "text/plain": [
              "array([ True, False])"
            ]
          },
          "metadata": {},
          "execution_count": 39
        }
      ]
    }
  ]
}